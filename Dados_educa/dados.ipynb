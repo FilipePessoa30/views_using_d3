{
 "cells": [
  {
   "cell_type": "code",
   "execution_count": 5,
   "metadata": {},
   "outputs": [
    {
     "name": "stdout",
     "output_type": "stream",
     "text": [
      "Arquivo corrigido salvo com sucesso em: C:\\Users\\Filip\\Downloads\\Visualizações\\Gráficos\\arquivo_corrigido.csv\n"
     ]
    }
   ],
   "source": [
    "import pandas as pd\n",
    "\n",
    "# Caminho para o arquivo CSV original\n",
    "file_path = 'Dados_Educa.csv'\n",
    "\n",
    "# Carregar o arquivo CSV com o delimitador correto e removendo o caractere BOM\n",
    "dados_educa = pd.read_csv(file_path, delimiter=';', encoding='utf-8-sig')\n",
    "\n",
    "# Converter colunas para o tipo numérico\n",
    "dados_educa['Fundamental_Aprovação'] = dados_educa['Fundamental_Aprovação'].str.replace(',', '.').astype(float)\n",
    "dados_educa['Ensino_médio_aprovação'] = dados_educa['Ensino_médio_aprovação'].str.replace(',', '.').astype(float)\n",
    "dados_educa['Fundamental_Reprovação'] = dados_educa['Fundamental_Reprovação'].str.replace(',', '.').astype(float)\n",
    "dados_educa['Ensino_médio_Reprovação'] = dados_educa['Ensino_médio_Reprovação'].str.replace(',', '.').astype(float)\n",
    "dados_educa['Fundamental_Abandono'] = dados_educa['Fundamental_Abandono'].str.replace(',', '.').astype(float)\n",
    "dados_educa['Ensino_médio_abandono'] = dados_educa['Ensino_médio_abandono'].str.replace(',', '.').astype(float)\n",
    "\n",
    "# Caminho para salvar o arquivo CSV corrigido\n",
    "corrected_file_path = 'C:\\\\Users\\\\Filip\\\\Downloads\\\\Visualizações\\\\Gráficos\\\\arquivo_corrigido.csv'\n",
    "\n",
    "# Salvar o arquivo CSV corrigido\n",
    "dados_educa.to_csv(corrected_file_path, index=False, sep=';', encoding='utf-8-sig')\n",
    "\n",
    "print(\"Arquivo corrigido salvo com sucesso em:\", corrected_file_path)\n"
   ]
  },
  {
   "cell_type": "code",
   "execution_count": 1,
   "metadata": {},
   "outputs": [],
   "source": [
    "import csv\n",
    "import json\n",
    "\n",
    "# Caminho do arquivo CSV de entrada\n",
    "caminho_csv = 'C:\\\\Users\\\\Filip\\\\Downloads\\\\Visualizações\\\\Gráficos\\\\Violência.csv'\n",
    "# Caminho do arquivo JSON de saída\n",
    "caminho_json = 'C:\\\\Users\\\\Filip\\\\Downloads\\\\Visualizações\\\\Gráficos\\\\viol.json'\n",
    "\n",
    "# Ler CSV e adicionar dados a uma lista de dicionários\n",
    "dados = []\n",
    "with open(caminho_csv, mode='r', encoding='utf-8') as arquivo_csv:\n",
    "    leitor_csv = csv.DictReader(arquivo_csv)\n",
    "    for linha in leitor_csv:\n",
    "        dados.append(linha)\n",
    "\n",
    "# Converter a lista de dicionários para JSON e salvar em um arquivo\n",
    "with open(caminho_json, mode='w', encoding='utf-8') as arquivo_json:\n",
    "    json.dump(dados, arquivo_json, indent=4, ensure_ascii=False)"
   ]
  },
  {
   "cell_type": "code",
   "execution_count": 14,
   "metadata": {},
   "outputs": [],
   "source": [
    "import csv\n",
    "import json\n",
    "\n",
    "def csv_to_json(csv_file_path, json_file_path):\n",
    "    data = []\n",
    "    with open(csv_file_path, 'r', encoding='utf-8') as csv_file:\n",
    "        csv_reader = csv.DictReader(csv_file, delimiter=';')\n",
    "        for row in csv_reader:\n",
    "            data.append(row)\n",
    "\n",
    "    with open(json_file_path, 'w', encoding='utf-8') as json_file:\n",
    "        json.dump(data, json_file, ensure_ascii=False, indent=4)\n",
    "\n",
    "# Exemplo de uso:\n",
    "csv_file_path = 'C:\\\\Users\\\\Filip\\\\Downloads\\\\Visualizações\\\\Gráficos\\\\Violência.csv'\n",
    "json_file_path = 'C:\\\\Users\\\\Filip\\\\Downloads\\\\Visualizações\\\\Gráficos\\\\viol.json'\n",
    "\n",
    "csv_to_json(csv_file_path, json_file_path)\n",
    "\n",
    "\n",
    "\n"
   ]
  },
  {
   "cell_type": "code",
   "execution_count": 9,
   "metadata": {},
   "outputs": [
    {
     "ename": "KeyError",
     "evalue": "'Ano'",
     "output_type": "error",
     "traceback": [
      "\u001b[1;31m---------------------------------------------------------------------------\u001b[0m",
      "\u001b[1;31mKeyError\u001b[0m                                  Traceback (most recent call last)",
      "Cell \u001b[1;32mIn[9], line 18\u001b[0m\n\u001b[0;32m     14\u001b[0m     leitor_csv \u001b[38;5;241m=\u001b[39m csv\u001b[38;5;241m.\u001b[39mDictReader(arquivo_csv)\n\u001b[0;32m     15\u001b[0m     \u001b[38;5;28;01mfor\u001b[39;00m linha \u001b[38;5;129;01min\u001b[39;00m leitor_csv:\n\u001b[0;32m     16\u001b[0m         \u001b[38;5;66;03m# Criar um dicionário para cada linha, seguindo o layout desejado\u001b[39;00m\n\u001b[0;32m     17\u001b[0m         registro \u001b[38;5;241m=\u001b[39m {\n\u001b[1;32m---> 18\u001b[0m             \u001b[38;5;124m\"\u001b[39m\u001b[38;5;124mAno\u001b[39m\u001b[38;5;124m\"\u001b[39m: \u001b[38;5;28mint\u001b[39m(\u001b[43mlinha\u001b[49m\u001b[43m[\u001b[49m\u001b[38;5;124;43m'\u001b[39;49m\u001b[38;5;124;43mAno\u001b[39;49m\u001b[38;5;124;43m'\u001b[39;49m\u001b[43m]\u001b[49m),\n\u001b[0;32m     19\u001b[0m             \u001b[38;5;124m\"\u001b[39m\u001b[38;5;124mmunicipios\u001b[39m\u001b[38;5;124m\"\u001b[39m: linha[\u001b[38;5;124m'\u001b[39m\u001b[38;5;124mmunicipios\u001b[39m\u001b[38;5;124m'\u001b[39m],\n\u001b[0;32m     20\u001b[0m             \u001b[38;5;124m\"\u001b[39m\u001b[38;5;124mFundamental_Aprovação\u001b[39m\u001b[38;5;124m\"\u001b[39m: \u001b[38;5;28mfloat\u001b[39m(linha[\u001b[38;5;124m'\u001b[39m\u001b[38;5;124mFundamental_Aprovação\u001b[39m\u001b[38;5;124m'\u001b[39m]),\n\u001b[0;32m     21\u001b[0m             \u001b[38;5;124m\"\u001b[39m\u001b[38;5;124mEnsino_médio_aprovação\u001b[39m\u001b[38;5;124m\"\u001b[39m: \u001b[38;5;28mfloat\u001b[39m(linha[\u001b[38;5;124m'\u001b[39m\u001b[38;5;124mEnsino_médio_aprovação\u001b[39m\u001b[38;5;124m'\u001b[39m]),\n\u001b[0;32m     22\u001b[0m             \u001b[38;5;124m\"\u001b[39m\u001b[38;5;124mFundamental_Reprovação\u001b[39m\u001b[38;5;124m\"\u001b[39m: \u001b[38;5;28mfloat\u001b[39m(linha[\u001b[38;5;124m'\u001b[39m\u001b[38;5;124mFundamental_Reprovação\u001b[39m\u001b[38;5;124m'\u001b[39m]),\n\u001b[0;32m     23\u001b[0m             \u001b[38;5;124m\"\u001b[39m\u001b[38;5;124mEnsino_médio_Reprovação\u001b[39m\u001b[38;5;124m\"\u001b[39m: \u001b[38;5;28mfloat\u001b[39m(linha[\u001b[38;5;124m'\u001b[39m\u001b[38;5;124mEnsino_médio_Reprovação\u001b[39m\u001b[38;5;124m'\u001b[39m]),\n\u001b[0;32m     24\u001b[0m             \u001b[38;5;124m\"\u001b[39m\u001b[38;5;124mFundamental_Abandono\u001b[39m\u001b[38;5;124m\"\u001b[39m: \u001b[38;5;28mfloat\u001b[39m(linha[\u001b[38;5;124m'\u001b[39m\u001b[38;5;124mFundamental_Abandono\u001b[39m\u001b[38;5;124m'\u001b[39m]),\n\u001b[0;32m     25\u001b[0m             \u001b[38;5;124m\"\u001b[39m\u001b[38;5;124mEnsino_médio_abandono\u001b[39m\u001b[38;5;124m\"\u001b[39m: \u001b[38;5;28mfloat\u001b[39m(linha[\u001b[38;5;124m'\u001b[39m\u001b[38;5;124mEnsino_médio_abandono\u001b[39m\u001b[38;5;124m'\u001b[39m])\n\u001b[0;32m     26\u001b[0m         }\n\u001b[0;32m     27\u001b[0m         dados_convertidos\u001b[38;5;241m.\u001b[39mappend(registro)\n\u001b[0;32m     29\u001b[0m \u001b[38;5;66;03m# Abrir o arquivo JSON para escrita\u001b[39;00m\n",
      "\u001b[1;31mKeyError\u001b[0m: 'Ano'"
     ]
    }
   ],
   "source": [
    "import csv\n",
    "import json\n",
    "\n",
    "# Caminho do arquivo CSV de entrada\n",
    "caminho_csv = 'C:\\\\Users\\\\Filip\\\\Downloads\\\\Visualizações\\\\Gráficos\\\\Dados_Educa.csv'\n",
    "# Caminho do arquivo JSON de saída\n",
    "caminho_json = 'C:\\\\Users\\\\Filip\\\\Downloads\\\\Visualizações\\\\Gráficos\\\\Dados_Educa.json'\n",
    "\n",
    "# Lista para armazenar os dados convertidos\n",
    "dados_convertidos = []\n",
    "\n",
    "# Abrir o arquivo CSV para leitura\n",
    "with open(caminho_csv, mode='r', encoding='utf-8') as arquivo_csv:\n",
    "    leitor_csv = csv.DictReader(arquivo_csv)\n",
    "    for linha in leitor_csv:\n",
    "        # Criar um dicionário para cada linha, seguindo o layout desejado\n",
    "        registro = {\n",
    "            \"Ano\": int(linha['Ano']),\n",
    "            \"municipios\": linha['municipios'],\n",
    "            \"Fundamental_Aprovação\": float(linha['Fundamental_Aprovação']),\n",
    "            \"Ensino_médio_aprovação\": float(linha['Ensino_médio_aprovação']),\n",
    "            \"Fundamental_Reprovação\": float(linha['Fundamental_Reprovação']),\n",
    "            \"Ensino_médio_Reprovação\": float(linha['Ensino_médio_Reprovação']),\n",
    "            \"Fundamental_Abandono\": float(linha['Fundamental_Abandono']),\n",
    "            \"Ensino_médio_abandono\": float(linha['Ensino_médio_abandono'])\n",
    "        }\n",
    "        dados_convertidos.append(registro)\n",
    "\n",
    "# Abrir o arquivo JSON para escrita\n",
    "with open(caminho_json, mode='w', encoding='utf-8') as arquivo_json:\n",
    "    # Escrever os dados no arquivo JSON\n",
    "    json.dump(dados_convertidos, arquivo_json, indent=4)"
   ]
  },
  {
   "cell_type": "code",
   "execution_count": 4,
   "metadata": {},
   "outputs": [],
   "source": [
    "import json\n",
    "\n",
    "# Caminho para o arquivo JSON com o problema\n",
    "caminho_arquivo = 'C:\\\\Users\\\\Filip\\\\Downloads\\\\Visualizações\\\\Gráficos\\\\Dados_Educa.json'\n",
    "\n",
    "# Ler o conteúdo do arquivo, removendo o BOM se presente\n",
    "with open(caminho_arquivo, 'r', encoding='utf-8-sig') as arquivo:\n",
    "    conteudo = json.load(arquivo)\n",
    "\n",
    "# Reescrever o arquivo JSON sem o BOM\n",
    "with open(caminho_arquivo, 'w', encoding='utf-8') as arquivo:\n",
    "    json.dump(conteudo, arquivo, indent=4, ensure_ascii=False)"
   ]
  }
 ],
 "metadata": {
  "kernelspec": {
   "display_name": "Python 3",
   "language": "python",
   "name": "python3"
  },
  "language_info": {
   "codemirror_mode": {
    "name": "ipython",
    "version": 3
   },
   "file_extension": ".py",
   "mimetype": "text/x-python",
   "name": "python",
   "nbconvert_exporter": "python",
   "pygments_lexer": "ipython3",
   "version": "3.11.9"
  }
 },
 "nbformat": 4,
 "nbformat_minor": 2
}
